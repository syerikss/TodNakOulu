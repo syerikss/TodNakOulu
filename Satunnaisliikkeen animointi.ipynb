{
 "cells": [
  {
   "cell_type": "markdown",
   "id": "302df36a",
   "metadata": {},
   "source": [
    "## Satunnaisliike\n",
    "\n",
    "Satunnaisliike mallintaa hiukkasen liikettä, joka törmäilee jatkuvastu muiden hiukkasten kanssa. Kuvittele esimerkiksi pölyhiukkanen ilmassa. Hiukkasen liikettä voidaan idealisoida seuraavasti:\n",
    "\n",
    "* $X_t$ *riippuu* vain edellisistä ajoista\n",
    "* $t\\to X_t$ on jatkuva\n",
    "* $X_s-X_t$:llä on *sama jakauma* kuiin $X_{s-t}$:llä kun $s>t$\n",
    "* $X_{s}-X_{t}$ ja $X_{s'}-X_{t'}$ ovat keskenään *riippumattomia* jos $[s,t]\\cap [s',t']=\\emptyset$.\n",
    "* $X_t$:n *odotusarvo* on aina nolla.\n",
    "* $X_1$:n varianssi on $1$.\n",
    "\n",
    "Näillä oletuksilla on vain yksi satunnainen prosessi, joka mallintaa kyseistä liikettä: Brownin liike.\n",
    "\n",
    "Jotta tällaista prosessia voisi kuvailla, on meidän kuitenkin määriteltävä käsitteet *riippua*,*odotusarvo*,*varianssi* ja *sama jakauma*. Meidän on myös määriteltävä, mikä *X_t* on, ja minkälaisia kysymyksiä me voimme tästä prosessista tutkia. Toisaalta voimme myös käyttää tämän kurssin käsitteitä, ja osoittaa niiden avulla prosessin ominaisuuksia, kuten lauseen, että\n",
    "\n",
    "**Lause** $X_1 \\sim N(0,1)$, missä $N(0,1)$ on normaalijakautunut muuttuja.\n",
    "\n",
    "**Lause** $X_t \\sim N(0,t)$, missä $N(0,1)$ on normaalijakautunut muuttuja, jonka varianssi on t.\n",
    "\n",
    "Emme kehitä kaikkea käsitteistöä tällä kurssilla, mutta tavoitteemme on pystyä käsittelemään tällaisia ilmiöitä, ja että voit jatkaa esimerkiksi stokastisten prosessien kurssille ja tutustua tarkemmin näihin prosesseihin.\n"
   ]
  },
  {
   "cell_type": "code",
   "execution_count": 2,
   "id": "e46b75c3",
   "metadata": {
    "scrolled": true
   },
   "outputs": [
    {
     "data": {
      "image/png": "[encoded data removed]",
      "text/plain": [
       "<Figure size 432x288 with 1 Axes>"
      ]
     },
     "metadata": {
      "needs_background": "light"
     },
     "output_type": "display_data"
    }
   ],
   "source": [
    "import numpy as np\n",
    "import matplotlib.pyplot as plt\n",
    "import matplotlib.animation as manimation\n",
    "import random\n",
    "\n",
    "n = 10000\n",
    "T = 1\n",
    "x = np.linspace(0, T, n)\n",
    "S = [random.randint(0,1)*2-1 for k in range(n)]\n",
    "\n",
    "y = [0 for k in range(n)]\n",
    "\n",
    "for k in range(1,n):\n",
    "    y[k]=y[k-1]+S[k]\n",
    "\n",
    "# Define the meta data for the movie\n",
    "FFMpegWriter = manimation.writers['ffmpeg']\n",
    "metadata = dict(title='Movie Test', artist='Matplotlib',\n",
    "                comment='a red circle following a blue sine wave')\n",
    "writer = FFMpegWriter(fps=15, metadata=metadata)\n",
    "\n",
    "# Initialize the movie\n",
    "fig = plt.figure()\n",
    "\n",
    "# plot the random line\n",
    "\n",
    "rand_line, = plt.plot([], [], 'b')\n",
    "red_circle, = plt.plot([], [], 'ro', markersize = 10)\n",
    "plt.xlabel('x')\n",
    "plt.ylabel('y')\n",
    "plt.xlim([0, 1])\n",
    "plt.ylim([-150,150])\n",
    "\n",
    "# Update the frames for the movie\n",
    "with writer.saving(fig, \"test-BM.mp4\", 90):\n",
    "    for i in range(int(n/10)):\n",
    "        x0 = x[i*10]\n",
    "        y0 = y[i*10]\n",
    "        red_circle.set_data(x0, y0)\n",
    "        rand_line.set_data(x[0:i*10], y[0:i*10])\n",
    "        writer.grab_frame()"
   ]
  },
  {
   "cell_type": "code",
   "execution_count": 3,
   "id": "682e9ad3",
   "metadata": {
    "scrolled": true
   },
   "outputs": [
    {
     "data": {
      "text/html": [
       "\n",
       "<div align=\"middle\">\n",
       "<video width=\"50%\" controls>\n",
       "      <source src=\"test-BM.mp4\" type=\"video/mp4\">\n",
       "</video></div>"
      ],
      "text/plain": [
       "<IPython.core.display.HTML object>"
      ]
     },
     "execution_count": 3,
     "metadata": {},
     "output_type": "execute_result"
    }
   ],
   "source": [
    "from IPython.display import HTML\n",
    "\n",
    "HTML(\"\"\"\n",
    "<div align=\"middle\">\n",
    "<video width=\"50%\" controls>\n",
    "      <source src=\"test-BM.mp4\" type=\"video/mp4\">\n",
    "</video></div>\"\"\")"
   ]
  },
  {
   "cell_type": "code",
   "execution_count": null,
   "id": "1c6aa72d",
   "metadata": {},
   "outputs": [],
   "source": [
    "\n"
   ]
  },
  {
   "cell_type": "code",
   "execution_count": null,
   "id": "7b4d5f30",
   "metadata": {},
   "outputs": [],
   "source": []
  },
  {
   "cell_type": "code",
   "execution_count": null,
   "id": "13ac171a",
   "metadata": {},
   "outputs": [],
   "source": []
  }
 ],
 "metadata": {
  "kernelspec": {
   "display_name": "Python 3",
   "language": "python",
   "name": "python3"
  },
  "language_info": {
   "codemirror_mode": {
    "name": "ipython",
    "version": 3
   },
   "file_extension": ".py",
   "mimetype": "text/x-python",
   "name": "python",
   "nbconvert_exporter": "python",
   "pygments_lexer": "ipython3",
   "version": "3.8.8"
  }
 },
 "nbformat": 4,
 "nbformat_minor": 5
}
